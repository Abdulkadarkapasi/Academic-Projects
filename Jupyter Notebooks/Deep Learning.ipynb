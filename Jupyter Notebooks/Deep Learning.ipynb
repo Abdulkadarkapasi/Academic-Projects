{
 "cells": [
  {
   "cell_type": "markdown",
   "id": "59e51d93-4b6e-4061-95ae-4e2a11912a9e",
   "metadata": {},
   "source": [
    "# Digits Dataset (sklearn)\n",
    "## Implementing Random Forest Algorithm (ML)"
   ]
  },
  {
   "cell_type": "code",
   "execution_count": 1,
   "id": "1f59b5b7-498f-435d-bc83-683d43473c65",
   "metadata": {},
   "outputs": [],
   "source": [
    "# importing necessary libraries\n",
    "import pandas as pd\n",
    "import numpy as np\n",
    "import matplotlib.pyplot as plt\n",
    "import seaborn as sns\n",
    "from sklearn.ensemble import RandomForestClassifier\n",
    "from sklearn.metrics import confusion_matrix"
   ]
  },
  {
   "cell_type": "code",
   "execution_count": 2,
   "id": "71ead1e4-0bb9-4db9-9425-69116f127d3f",
   "metadata": {},
   "outputs": [],
   "source": [
    "from sklearn.datasets import load_digits\n",
    "data = load_digits()"
   ]
  },
  {
   "cell_type": "code",
   "execution_count": 3,
   "id": "f885998c-64fe-4286-b52e-d668ba51a2b7",
   "metadata": {},
   "outputs": [
    {
     "data": {
      "text/plain": [
       "['DESCR', 'data', 'feature_names', 'frame', 'images', 'target', 'target_names']"
      ]
     },
     "execution_count": 3,
     "metadata": {},
     "output_type": "execute_result"
    }
   ],
   "source": [
    "dir(data)"
   ]
  },
  {
   "cell_type": "code",
   "execution_count": 4,
   "id": "38d9a1b2-5e80-4d21-88c7-9a12f91b12df",
   "metadata": {},
   "outputs": [
    {
     "data": {
      "image/png": "[encoded data removed]",
      "text/plain": [
       "<Figure size 640x480 with 1 Axes>"
      ]
     },
     "metadata": {},
     "output_type": "display_data"
    }
   ],
   "source": [
    "# to have a look on data\n",
    "plt.gray() # gray function show the values in a gray scale\n",
    "plt.imshow(data.images[3]);"
   ]
  },
  {
   "cell_type": "code",
   "execution_count": 5,
   "id": "fbbd67ff-61fa-474e-9202-4df977499f09",
   "metadata": {},
   "outputs": [
    {
     "data": {
      "text/plain": [
       "array([0, 1, 2, 3, 4, 5, 6, 7, 8, 9])"
      ]
     },
     "execution_count": 5,
     "metadata": {},
     "output_type": "execute_result"
    }
   ],
   "source": [
    "data.target_names"
   ]
  },
  {
   "cell_type": "code",
   "execution_count": 6,
   "id": "26c19a2e-6f43-4de3-ad79-72f176daf61d",
   "metadata": {},
   "outputs": [],
   "source": [
    "x = data.data\n",
    "y = data.target"
   ]
  },
  {
   "cell_type": "code",
   "execution_count": 7,
   "id": "f010724d-8e75-4029-8314-8bf69cfd1a23",
   "metadata": {},
   "outputs": [
    {
     "data": {
      "text/plain": [
       "array([[ 0.,  0.,  5., ...,  0.,  0.,  0.],\n",
       "       [ 0.,  0.,  0., ..., 10.,  0.,  0.],\n",
       "       [ 0.,  0.,  0., ..., 16.,  9.,  0.],\n",
       "       ...,\n",
       "       [ 0.,  0.,  1., ...,  6.,  0.,  0.],\n",
       "       [ 0.,  0.,  2., ..., 12.,  0.,  0.],\n",
       "       [ 0.,  0., 10., ..., 12.,  1.,  0.]])"
      ]
     },
     "execution_count": 7,
     "metadata": {},
     "output_type": "execute_result"
    }
   ],
   "source": [
    "x"
   ]
  },
  {
   "cell_type": "code",
   "execution_count": 8,
   "id": "0b9ce759-cac5-4c14-8517-d0bdf70da3cf",
   "metadata": {},
   "outputs": [
    {
     "data": {
      "text/plain": [
       "array([0, 1, 2, ..., 8, 9, 8])"
      ]
     },
     "execution_count": 8,
     "metadata": {},
     "output_type": "execute_result"
    }
   ],
   "source": [
    "y"
   ]
  },
  {
   "cell_type": "code",
   "execution_count": 9,
   "id": "5474ef40-799e-4e3f-8c2f-7c2da1f42d35",
   "metadata": {},
   "outputs": [
    {
     "data": {
      "text/plain": [
       "1797"
      ]
     },
     "execution_count": 9,
     "metadata": {},
     "output_type": "execute_result"
    }
   ],
   "source": [
    "# to check the length of the data\n",
    "len(x)"
   ]
  },
  {
   "cell_type": "code",
   "execution_count": 10,
   "id": "c9826d26-4923-4a91-98b7-3ec3124b0a4b",
   "metadata": {},
   "outputs": [
    {
     "data": {
      "text/plain": [
       "array([[ 0.,  0.,  1., ...,  0.,  0.,  0.],\n",
       "       [ 0.,  0., 11., ...,  0.,  0.,  0.],\n",
       "       [ 0.,  0.,  0., ...,  4.,  0.,  0.],\n",
       "       ...,\n",
       "       [ 0.,  3., 16., ..., 16.,  8.,  0.],\n",
       "       [ 0.,  0.,  4., ...,  5.,  0.,  0.],\n",
       "       [ 0.,  0., 11., ...,  1.,  0.,  0.]])"
      ]
     },
     "execution_count": 10,
     "metadata": {},
     "output_type": "execute_result"
    }
   ],
   "source": [
    "# Let's do train test split in order to train the model and test the model\n",
    "from sklearn.model_selection import train_test_split\n",
    "x_train, x_test, y_train, y_test = train_test_split(x, y, test_size = 0.2, random_state = 35)\n",
    "x_train"
   ]
  },
  {
   "cell_type": "code",
   "execution_count": 11,
   "id": "b20c6df8-74cd-407d-861e-933175e37a49",
   "metadata": {},
   "outputs": [
    {
     "data": {
      "text/plain": [
       "array([7, 0, 4, ..., 5, 8, 1])"
      ]
     },
     "execution_count": 11,
     "metadata": {},
     "output_type": "execute_result"
    }
   ],
   "source": [
    "y_train"
   ]
  },
  {
   "cell_type": "code",
   "execution_count": 12,
   "id": "6aa6d978-5acc-47e7-a34c-0135f70051ef",
   "metadata": {},
   "outputs": [
    {
     "data": {
      "text/html": [
       "<style>#sk-container-id-1 {color: black;background-color: white;}#sk-container-id-1 pre{padding: 0;}#sk-container-id-1 div.sk-toggleable {background-color: white;}#sk-container-id-1 label.sk-toggleable__label {cursor: pointer;display: block;width: 100%;margin-bottom: 0;padding: 0.3em;box-sizing: border-box;text-align: center;}#sk-container-id-1 label.sk-toggleable__label-arrow:before {content: \"▸\";float: left;margin-right: 0.25em;color: #696969;}#sk-container-id-1 label.sk-toggleable__label-arrow:hover:before {color: black;}#sk-container-id-1 div.sk-estimator:hover label.sk-toggleable__label-arrow:before {color: black;}#sk-container-id-1 div.sk-toggleable__content {max-height: 0;max-width: 0;overflow: hidden;text-align: left;background-color: #f0f8ff;}#sk-container-id-1 div.sk-toggleable__content pre {margin: 0.2em;color: black;border-radius: 0.25em;background-color: #f0f8ff;}#sk-container-id-1 input.sk-toggleable__control:checked~div.sk-toggleable__content {max-height: 200px;max-width: 100%;overflow: auto;}#sk-container-id-1 input.sk-toggleable__control:checked~label.sk-toggleable__label-arrow:before {content: \"▾\";}#sk-container-id-1 div.sk-estimator input.sk-toggleable__control:checked~label.sk-toggleable__label {background-color: #d4ebff;}#sk-container-id-1 div.sk-label input.sk-toggleable__control:checked~label.sk-toggleable__label {background-color: #d4ebff;}#sk-container-id-1 input.sk-hidden--visually {border: 0;clip: rect(1px 1px 1px 1px);clip: rect(1px, 1px, 1px, 1px);height: 1px;margin: -1px;overflow: hidden;padding: 0;position: absolute;width: 1px;}#sk-container-id-1 div.sk-estimator {font-family: monospace;background-color: #f0f8ff;border: 1px dotted black;border-radius: 0.25em;box-sizing: border-box;margin-bottom: 0.5em;}#sk-container-id-1 div.sk-estimator:hover {background-color: #d4ebff;}#sk-container-id-1 div.sk-parallel-item::after {content: \"\";width: 100%;border-bottom: 1px solid gray;flex-grow: 1;}#sk-container-id-1 div.sk-label:hover label.sk-toggleable__label {background-color: #d4ebff;}#sk-container-id-1 div.sk-serial::before {content: \"\";position: absolute;border-left: 1px solid gray;box-sizing: border-box;top: 0;bottom: 0;left: 50%;z-index: 0;}#sk-container-id-1 div.sk-serial {display: flex;flex-direction: column;align-items: center;background-color: white;padding-right: 0.2em;padding-left: 0.2em;position: relative;}#sk-container-id-1 div.sk-item {position: relative;z-index: 1;}#sk-container-id-1 div.sk-parallel {display: flex;align-items: stretch;justify-content: center;background-color: white;position: relative;}#sk-container-id-1 div.sk-item::before, #sk-container-id-1 div.sk-parallel-item::before {content: \"\";position: absolute;border-left: 1px solid gray;box-sizing: border-box;top: 0;bottom: 0;left: 50%;z-index: -1;}#sk-container-id-1 div.sk-parallel-item {display: flex;flex-direction: column;z-index: 1;position: relative;background-color: white;}#sk-container-id-1 div.sk-parallel-item:first-child::after {align-self: flex-end;width: 50%;}#sk-container-id-1 div.sk-parallel-item:last-child::after {align-self: flex-start;width: 50%;}#sk-container-id-1 div.sk-parallel-item:only-child::after {width: 0;}#sk-container-id-1 div.sk-dashed-wrapped {border: 1px dashed gray;margin: 0 0.4em 0.5em 0.4em;box-sizing: border-box;padding-bottom: 0.4em;background-color: white;}#sk-container-id-1 div.sk-label label {font-family: monospace;font-weight: bold;display: inline-block;line-height: 1.2em;}#sk-container-id-1 div.sk-label-container {text-align: center;}#sk-container-id-1 div.sk-container {/* jupyter's `normalize.less` sets `[hidden] { display: none; }` but bootstrap.min.css set `[hidden] { display: none !important; }` so we also need the `!important` here to be able to override the default hidden behavior on the sphinx rendered scikit-learn.org. See: https://github.com/scikit-learn/scikit-learn/issues/21755 */display: inline-block !important;position: relative;}#sk-container-id-1 div.sk-text-repr-fallback {display: none;}</style><div id=\"sk-container-id-1\" class=\"sk-top-container\"><div class=\"sk-text-repr-fallback\"><pre>RandomForestClassifier()</pre><b>In a Jupyter environment, please rerun this cell to show the HTML representation or trust the notebook. <br />On GitHub, the HTML representation is unable to render, please try loading this page with nbviewer.org.</b></div><div class=\"sk-container\" hidden><div class=\"sk-item\"><div class=\"sk-estimator sk-toggleable\"><input class=\"sk-toggleable__control sk-hidden--visually\" id=\"sk-estimator-id-1\" type=\"checkbox\" checked><label for=\"sk-estimator-id-1\" class=\"sk-toggleable__label sk-toggleable__label-arrow\">RandomForestClassifier</label><div class=\"sk-toggleable__content\"><pre>RandomForestClassifier()</pre></div></div></div></div></div>"
      ],
      "text/plain": [
       "RandomForestClassifier()"
      ]
     },
     "execution_count": 12,
     "metadata": {},
     "output_type": "execute_result"
    }
   ],
   "source": [
    "# creating an object of randomforest classifier\n",
    "rf = RandomForestClassifier()\n",
    "rf.fit(x_train, y_train)"
   ]
  },
  {
   "cell_type": "code",
   "execution_count": 13,
   "id": "35efda76-14b5-4161-aa0c-07361a777b1a",
   "metadata": {},
   "outputs": [
    {
     "data": {
      "text/plain": [
       "array([1, 8, 4, 6, 3, 5, 1, 7, 4, 8, 2, 6, 5, 3, 9, 6, 9, 8, 8, 1, 7, 6,\n",
       "       3, 3, 2, 2, 2, 4, 5, 6, 2, 7, 6, 3, 3, 8, 3, 1, 4, 2, 1, 0, 9, 6,\n",
       "       8, 6, 0, 7, 1, 5, 7, 4, 8, 7, 1, 4, 7, 2, 6, 4, 2, 9, 1, 8, 0, 3,\n",
       "       4, 4, 4, 9, 6, 5, 6, 9, 8, 4, 6, 9, 9, 5, 6, 3, 7, 9, 2, 1, 3, 3,\n",
       "       8, 0, 5, 4, 0, 2, 1, 2, 9, 5, 0, 3, 5, 5, 4, 7, 4, 2, 3, 3, 9, 3,\n",
       "       2, 0, 7, 6, 5, 1, 0, 7, 4, 2, 7, 6, 7, 8, 1, 4, 9, 7, 2, 6, 1, 0,\n",
       "       1, 2, 0, 2, 7, 8, 0, 9, 8, 2, 4, 5, 7, 1, 7, 8, 1, 1, 7, 9, 9, 9,\n",
       "       0, 0, 0, 4, 4, 1, 2, 0, 6, 9, 3, 1, 2, 3, 9, 2, 7, 3, 2, 8, 1, 2,\n",
       "       6, 0, 6, 5, 4, 7, 8, 6, 3, 1, 6, 9, 8, 8, 1, 4, 6, 2, 3, 5, 6, 2,\n",
       "       6, 6, 9, 8, 9, 4, 0, 1, 5, 6, 1, 5, 7, 0, 0, 0, 9, 6, 0, 5, 6, 7,\n",
       "       5, 7, 5, 5, 5, 7, 6, 7, 4, 9, 1, 7, 3, 1, 8, 3, 9, 9, 5, 6, 9, 0,\n",
       "       4, 9, 0, 4, 0, 5, 7, 0, 9, 5, 0, 4, 9, 5, 3, 0, 9, 7, 3, 1, 6, 0,\n",
       "       1, 3, 3, 7, 4, 4, 4, 9, 2, 5, 7, 7, 7, 6, 5, 4, 8, 0, 9, 3, 1, 9,\n",
       "       4, 2, 0, 5, 2, 7, 5, 0, 3, 9, 6, 5, 7, 3, 1, 8, 4, 8, 4, 1, 7, 6,\n",
       "       7, 2, 5, 6, 9, 9, 5, 1, 4, 2, 3, 7, 0, 3, 5, 7, 0, 4, 3, 8, 8, 8,\n",
       "       5, 3, 1, 9, 6, 8, 7, 9, 3, 8, 7, 1, 2, 3, 8, 6, 6, 1, 3, 5, 1, 9,\n",
       "       3, 6, 2, 5, 5, 9, 9, 9])"
      ]
     },
     "execution_count": 13,
     "metadata": {},
     "output_type": "execute_result"
    }
   ],
   "source": [
    "# model predicted data\n",
    "rf.predict(x_test)"
   ]
  },
  {
   "cell_type": "code",
   "execution_count": 14,
   "id": "31ebbad4-71a8-4cba-ad48-108e31cf4c01",
   "metadata": {},
   "outputs": [
    {
     "data": {
      "text/plain": [
       "array([1, 8, 5, 6, 3, 5, 1, 7, 4, 9, 2, 6, 5, 3, 9, 6, 9, 8, 8, 1, 7, 6,\n",
       "       3, 3, 2, 2, 2, 4, 5, 6, 2, 7, 6, 3, 3, 8, 3, 1, 4, 2, 1, 0, 9, 6,\n",
       "       8, 6, 0, 7, 1, 5, 7, 4, 8, 7, 4, 4, 7, 2, 6, 4, 2, 9, 1, 8, 0, 3,\n",
       "       4, 4, 4, 9, 6, 5, 6, 9, 8, 4, 6, 9, 9, 5, 6, 3, 7, 9, 2, 1, 3, 3,\n",
       "       8, 0, 5, 4, 0, 2, 1, 2, 9, 5, 0, 3, 5, 5, 4, 7, 4, 2, 3, 3, 9, 3,\n",
       "       2, 0, 7, 6, 5, 1, 0, 7, 4, 2, 7, 6, 4, 9, 8, 4, 9, 7, 2, 6, 1, 0,\n",
       "       1, 2, 0, 2, 7, 8, 0, 9, 8, 2, 4, 5, 7, 1, 7, 8, 1, 1, 7, 9, 9, 9,\n",
       "       0, 0, 0, 4, 4, 1, 2, 0, 6, 9, 3, 1, 2, 3, 9, 2, 7, 3, 2, 8, 1, 2,\n",
       "       6, 0, 6, 5, 4, 7, 8, 6, 3, 8, 6, 9, 8, 8, 1, 4, 6, 2, 3, 5, 6, 2,\n",
       "       6, 6, 9, 8, 9, 4, 0, 1, 5, 6, 1, 5, 7, 0, 0, 0, 9, 6, 0, 5, 6, 7,\n",
       "       5, 7, 5, 5, 5, 7, 6, 7, 4, 5, 1, 8, 3, 1, 8, 3, 9, 9, 5, 6, 9, 0,\n",
       "       4, 9, 0, 4, 0, 5, 7, 0, 9, 5, 0, 4, 9, 5, 3, 0, 9, 7, 3, 1, 6, 0,\n",
       "       1, 3, 3, 7, 4, 4, 4, 9, 2, 5, 7, 7, 7, 6, 5, 4, 8, 0, 9, 3, 1, 9,\n",
       "       4, 2, 0, 5, 2, 7, 5, 0, 3, 9, 6, 5, 7, 3, 1, 8, 4, 8, 4, 1, 7, 6,\n",
       "       7, 2, 5, 6, 9, 9, 5, 8, 4, 2, 3, 7, 0, 3, 5, 7, 0, 4, 3, 8, 8, 4,\n",
       "       5, 8, 1, 9, 6, 8, 7, 9, 3, 8, 7, 1, 2, 3, 8, 6, 6, 1, 3, 5, 1, 9,\n",
       "       3, 6, 2, 5, 5, 9, 9, 9])"
      ]
     },
     "execution_count": 14,
     "metadata": {},
     "output_type": "execute_result"
    }
   ],
   "source": [
    "# actual data\n",
    "y_test"
   ]
  },
  {
   "cell_type": "code",
   "execution_count": 15,
   "id": "2dcd3a72-6e2d-4bc0-9e0a-fdd4e32b3dd9",
   "metadata": {},
   "outputs": [
    {
     "data": {
      "text/plain": [
       "0.9666666666666667"
      ]
     },
     "execution_count": 15,
     "metadata": {},
     "output_type": "execute_result"
    }
   ],
   "source": [
    "rf.score(x_test, y_test)"
   ]
  },
  {
   "cell_type": "code",
   "execution_count": 16,
   "id": "5131ac35-ed23-4f9d-b6b2-90716e9b7c1c",
   "metadata": {},
   "outputs": [],
   "source": [
    "y_pred = rf.predict(x_test)"
   ]
  },
  {
   "cell_type": "code",
   "execution_count": 17,
   "id": "304ee981-ec4d-4429-9d96-d4d5b72c4805",
   "metadata": {},
   "outputs": [
    {
     "data": {
      "text/plain": [
       "array([[33,  0,  0,  0,  0,  0,  0,  0,  0,  0],\n",
       "       [ 0, 32,  0,  0,  0,  0,  0,  0,  0,  0],\n",
       "       [ 0,  0, 32,  0,  0,  0,  0,  0,  0,  0],\n",
       "       [ 0,  0,  0, 36,  0,  0,  0,  0,  0,  0],\n",
       "       [ 0,  1,  0,  0, 34,  0,  0,  1,  1,  0],\n",
       "       [ 0,  0,  0,  0,  1, 37,  0,  0,  0,  1],\n",
       "       [ 0,  0,  0,  0,  0,  0, 39,  0,  0,  0],\n",
       "       [ 0,  0,  0,  0,  0,  0,  0, 38,  0,  0],\n",
       "       [ 0,  3,  0,  1,  0,  0,  0,  1, 26,  0],\n",
       "       [ 0,  0,  0,  0,  0,  0,  0,  0,  2, 41]], dtype=int64)"
      ]
     },
     "execution_count": 17,
     "metadata": {},
     "output_type": "execute_result"
    }
   ],
   "source": [
    "cm = confusion_matrix(y_test, y_pred)\n",
    "cm"
   ]
  },
  {
   "cell_type": "code",
   "execution_count": 18,
   "id": "40d058a4-4fb9-4864-ba9f-1b8671355708",
   "metadata": {},
   "outputs": [
    {
     "data": {
      "image/png": "[encoded data removed]",
      "text/plain": [
       "<Figure size 1200x600 with 2 Axes>"
      ]
     },
     "metadata": {},
     "output_type": "display_data"
    }
   ],
   "source": [
    "plt.figure(figsize = (12,6))\n",
    "sns.heatmap(cm, annot = True, cmap = \"magma\")\n",
    "plt.ylabel(\"Actual (Truth)\")\n",
    "plt.xlabel(\"Predicted\");"
   ]
  }
 ],
 "metadata": {
  "kernelspec": {
   "display_name": "Python 3 (ipykernel)",
   "language": "python",
   "name": "python3"
  },
  "language_info": {
   "codemirror_mode": {
    "name": "ipython",
    "version": 3
   },
   "file_extension": ".py",
   "mimetype": "text/x-python",
   "name": "python",
   "nbconvert_exporter": "python",
   "pygments_lexer": "ipython3",
   "version": "3.11.2"
  }
 },
 "nbformat": 4,
 "nbformat_minor": 5
}
